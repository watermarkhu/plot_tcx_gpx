{
 "cells": [
  {
   "cell_type": "markdown",
   "metadata": {},
   "source": [
    "Load dependancies"
   ]
  },
  {
   "cell_type": "code",
   "execution_count": null,
   "metadata": {
    "tags": []
   },
   "outputs": [],
   "source": [
    "!pip install -e ../gpxpy\n",
    "from progiter import ProgIter as prog\n",
    "from strava_export_gpx import main\n",
    "import pandas as pd\n",
    "import gpxpy\n",
    "from geopy.geocoders import Nominatim\n",
    "from geopy.extra.rate_limiter import RateLimiter\n",
    "locator = RateLimiter(Nominatim(user_agent=\"strava_mapper\").reverse, min_delay_seconds=1)"
   ]
  },
  {
   "cell_type": "markdown",
   "metadata": {},
   "source": [
    "Fix TCX and GZ files"
   ]
  },
  {
   "cell_type": "code",
   "execution_count": null,
   "metadata": {
    "tags": []
   },
   "outputs": [],
   "source": [
    "folder = \"/mnt/d/Users/water_000/Downloads/export_25412727/\"\n",
    "files = main(folder, folder + \"activities\", folder + \"activities.csv\")"
   ]
  },
  {
   "cell_type": "markdown",
   "metadata": {},
   "source": [
    "Save data to Dataframe"
   ]
  },
  {
   "cell_type": "code",
   "execution_count": null,
   "metadata": {
    "tags": []
   },
   "outputs": [],
   "source": [
    "data = []\n",
    "for filename, activity_type in prog(files.items()):\n",
    "    with open(folder + filename, \"r\") as file:\n",
    "        gpxdata = gpxpy.parse(file)\n",
    "\n",
    "    init_time = gpxdata.tracks[0].segments[0].points[0].time\n",
    "    for track in gpxdata.tracks:\n",
    "        locdict = None\n",
    "        for segment in track.segments:\n",
    "            for point in segment.points:\n",
    "                if point.latitude and point.longitude:\n",
    "                    if not locdict:\n",
    "                        locdict = locator(\"{}, {}\".format(point.latitude, point.longitude), language='en').raw\n",
    "                        mydict = dict()\n",
    "                        for key in [\"country\", \"state\", \"city\"]:\n",
    "                            mydict[key] = locdict[\"address\"][key] if key in locdict[\"address\"] else \"Unknown\"\n",
    "                    data.append(dict(\n",
    "                        latitude=point.latitude,\n",
    "                        longitude=point.longitude,\n",
    "                        time=point.time,\n",
    "                        type=activity_type,\n",
    "                        file=filename,\n",
    "                        **mydict\n",
    "                    ))\n",
    "\n",
    "df = pd.DataFrame(data)\n"
   ]
  },
  {
   "cell_type": "code",
   "execution_count": null,
   "metadata": {},
   "outputs": [],
   "source": [
    "from IPython.display import display\n",
    "import ipywidgets as widgets\n",
    "import gmaps\n",
    "with open(\"api_key\", \"r\") as file:\n",
    "    api_key = file.read()\n",
    "gmaps.configure(api_key=api_key)\n",
    "\n",
    "class OutletExplorer(object):\n",
    "\n",
    "    def __init__(self, df, option, max_intensity:int=800, point_radius:int=5):\n",
    "        \"\"\"\n",
    "        Jupyter widget for exploring KFC and Starbucks outlets\n",
    "\n",
    "        Using checkboxes, the user chooses whether to include\n",
    "        Starbucks, KFC outlets, both or neither.\n",
    "        \"\"\"\n",
    "        self.max_intensity = max_intensity\n",
    "        self.point_radius = point_radius\n",
    "        self._df = df\n",
    "        self._option = option\n",
    "        self._options = list(set(self._df.loc[:, option]))\n",
    "        self._numoptions = len(self._options)\n",
    "        self._heatmap = None\n",
    "        self._checkboxes = None\n",
    "        self._mislider = None\n",
    "        self._prslider = None\n",
    "\n",
    "        title_widget = widgets.HTML(\n",
    "            '<h3>Explore GPX and TCX data</h3>'\n",
    "        )\n",
    "        sliders, controls = self._render_controls()\n",
    "        map_figure = self._render_map()\n",
    "\n",
    "        self._container = widgets.VBox(\n",
    "            [title_widget, sliders, controls, map_figure])\n",
    "\n",
    "    def render(self):\n",
    "        \"\"\" Render the widget \"\"\"\n",
    "        display(self._container)\n",
    "\n",
    "    def _render_map(self):\n",
    "        \"\"\" Render the initial map \"\"\"\n",
    "        fig = gmaps.figure()\n",
    "        self._heatmap = gmaps.heatmap_layer(\n",
    "            df[['latitude', 'longitude']],\n",
    "            max_intensity = self.max_intensity,\n",
    "            point_radius = self.point_radius\n",
    "        )\n",
    "        fig.add_layer(self._heatmap)\n",
    "        self._heatmap.max_intensity = self.max_intensity\n",
    "        self._heatmap.point_radius = self.point_radius\n",
    "        return fig\n",
    "\n",
    "    def _render_controls(self, *args, **kwargs):\n",
    "\n",
    "        self._mislider = widgets.IntSlider(\n",
    "            value=self.max_intensity,\n",
    "            min=0,\n",
    "            max=2000,\n",
    "            description='Max Intensity',\n",
    "            continuous_update=False\n",
    "        )\n",
    "        self._mislider.observe(self._on_mi_change, names='value')\n",
    "        self._prslider = widgets.IntSlider(\n",
    "            value=self.point_radius,\n",
    "            min=1,\n",
    "            max=50,\n",
    "            description='Point Radius',\n",
    "            continuous_update=False\n",
    "        )\n",
    "        self._prslider.observe(self._on_pr_change, names='value')\n",
    "        sliders = widgets.VBox([\n",
    "            self._mislider,\n",
    "            self._prslider\n",
    "        ])\n",
    "\n",
    "        \"\"\" Render the checkboxes \"\"\"\n",
    "        self._checkboxes = {}\n",
    "        for option in self._options:\n",
    "            checkbox = widgets.Checkbox(\n",
    "                value=True,\n",
    "                description=option\n",
    "            )\n",
    "            checkbox.observe(self._on_checkbox_change, names='value')\n",
    "            self._checkboxes[option] = checkbox\n",
    "        controls = widgets.Box(\n",
    "            list(self._checkboxes.values()),\n",
    "            layout=widgets.Layout(flex_flow='row wrap')\n",
    "        )\n",
    "        return sliders, controls\n",
    "\n",
    "    def _on_mi_change(self, change):\n",
    "        self._heatmap.max_intensity = self._mislider.value\n",
    "\n",
    "    def _on_pr_change(self, change):\n",
    "        self._heatmap.point_radius = self._prslider.value\n",
    "\n",
    "    def _on_checkbox_change(self, change):\n",
    "        \"\"\"\n",
    "        Called when the checkboxes change\n",
    "\n",
    "        This method builds the list of symbols to include on the map,\n",
    "        based on the current checkbox values. It then updates the\n",
    "        symbol layer with the new symbol list.\n",
    "        \"\"\"\n",
    "\n",
    "        selected = [option for option, checkbox in self._checkboxes.items() if checkbox.value]\n",
    "        locations = self._df.loc[df[self._option].isin(selected), ['latitude', 'longitude']]\n",
    "        self._heatmap.locations = locations\n",
    "        print(selected, len(locations))\n",
    "        return self._container"
   ]
  },
  {
   "cell_type": "markdown",
   "metadata": {},
   "source": [
    "Plot map"
   ]
  },
  {
   "cell_type": "code",
   "execution_count": null,
   "metadata": {},
   "outputs": [],
   "source": [
    "\n",
    "\n",
    "OutletExplorer(df, \"type\").render()"
   ]
  },
  {
   "cell_type": "code",
   "execution_count": null,
   "metadata": {},
   "outputs": [],
   "source": []
  }
 ],
 "metadata": {
  "kernelspec": {
   "display_name": "strava_mapper",
   "language": "python",
   "name": "strava_mapper"
  },
  "language_info": {
   "codemirror_mode": {
    "name": "ipython",
    "version": 3
   },
   "file_extension": ".py",
   "mimetype": "text/x-python",
   "name": "python",
   "nbconvert_exporter": "python",
   "pygments_lexer": "ipython3",
   "version": "3.8.2-final"
  }
 },
 "nbformat": 4,
 "nbformat_minor": 2
}