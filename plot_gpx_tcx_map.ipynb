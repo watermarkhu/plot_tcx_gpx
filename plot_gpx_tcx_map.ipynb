{
 "cells": [
  {
   "cell_type": "markdown",
   "metadata": {},
   "source": [
    "Load dependancies"
   ]
  },
  {
   "cell_type": "code",
   "execution_count": 64,
   "metadata": {
    "tags": []
   },
   "outputs": [
    {
     "output_type": "stream",
     "name": "stdout",
     "text": "Obtaining file:///home/watermarkhu/projects/strava_mapper/gpxpy\nInstalling collected packages: gpxpy\n  Attempting uninstall: gpxpy\n    Found existing installation: gpxpy 1.4.2\n    Uninstalling gpxpy-1.4.2:\n      Successfully uninstalled gpxpy-1.4.2\n  Running setup.py develop for gpxpy\nSuccessfully installed gpxpy\n"
    }
   ],
   "source": [
    "!pip install -e ../gpxpy\n",
    "from progiter import ProgIter as prog\n",
    "from strava_export_gpx import main\n",
    "import pandas as pd\n",
    "import gpxpy\n",
    "from geopy.geocoders import Nominatim\n",
    "from geopy.extra.rate_limiter import RateLimiter\n",
    "locator = RateLimiter(Nominatim(user_agent=\"strava_mapper\").reverse, min_delay_seconds=1)"
   ]
  },
  {
   "cell_type": "markdown",
   "metadata": {},
   "source": [
    "Fix TCX and GZ files"
   ]
  },
  {
   "cell_type": "code",
   "execution_count": 65,
   "metadata": {
    "tags": []
   },
   "outputs": [
    {
     "output_type": "stream",
     "name": "stdout",
     "text": "Reading '/mnt/d/Users/water_000/Downloads/export_25412727/activities.csv'\nFound 72 activities \nUnzipping ...\nProgress: \nNormalizing ...\nactivities/2453671243.gpx               | Run          | Morning Run\nactivities/2459470423.gpx               | Run          | Morning Run\nactivities/2497042755.gpx               | Snowboard    | Morning Activity\nactivities/2514112484.gpx               | Run          | Lunch Run\nactivities/2519401245.gpx               | Run          | Morning Run\nactivities/2522229121.gpx               | Run          | Morning run\nactivities/2706238445.gpx               | Run          | Morning Run\nactivities/2712950931.gpx               | Run          | Lunch Run\nactivities/2712959895.gpx               | Run          | Morning Run\nactivities/2717923914.gpx               | Run          | Running\nactivities/2722525232.gpx               | Run          | Running\nactivities/2733023399.gpx               | Run          | Morning Run\nactivities/2733023547.gpx               | Run          | Morning Run\nactivities/2785735267.gpx               | Run          | Morning Run\nactivities/2785735371.gpx               | Run          | Morning Run\nactivities/2786087007.gpx               | Run          | Lunch Run\nactivities/2812692131.gpx               | Run          | Lunch Run\nactivities/2825500068.gpx               | Run          | Morning Run\nactivities/2851869626.gpx               | Run          | Morning Run\nactivities/2734028751.gpx               | Run          | Evening Run\nactivities/3067136819.gpx               | Run          | Morning Run\nactivities/3143243162.gpx               | Alpine Ski   | Lunch Ride\nactivities/3145812334.gpx               | Alpine Ski   | Morning Ride\nactivities/3148043330.gpx               | Alpine Ski   | Morning Ride\nactivities/3148043564.gpx               | Alpine Ski   | Afternoon Ride\nactivities/3150323002.gpx               | Alpine Ski   | Morning Ride\nactivities/2969469824.gpx               | Run          | Morning Run\nactivities/3171388948.gpx               | Ride         | Afternoon Ride\nactivities/3176088217.gpx               | Run          | Morning Run\nactivities/3196563370.gpx               | Run          | Morning Run\nactivities/3217339545.gpx               | Run          | Evening Run\nactivities/3462533194.gpx               | Run          | Afternoon Run\nactivities/3479829981.gpx               | Run          | Evening Run\nactivities/3497766627.gpx               | Run          | Evening Run\nactivities/3516123149.gpx               | Run          | Afternoon Run\nactivities/3530860577.gpx               | Run          | Evening Run\nactivities/3549910276.gpx               | Ride         | Lunch Ride\nactivities/3549910536.gpx               | Ride         | Afternoon Ride\nactivities/3334552807.gpx               | Run          | Morning Run\nactivities/3587502906.gpx               | Run          | Afternoon Run\nactivities/3615608577.gpx               | Run          | Morning Run\nactivities/3635341051.gpx               | Run          | Afternoon Run\nactivities/3652906301.gpx               | Ride         | Morning Ride\nactivities/3669451601.gpx               | Run          | Evening Run\nactivities/3703660263.gpx               | Run          | Afternoon Run\nactivities/3770655030.gpx               | Run          | Evening Run\nactivities/3834658578.gpx               | Run          | Morning Run\nactivities/3846855350.gpx               | Run          | Afternoon Run\nactivities/3872337350.gpx               | Run          | Morning Run\nactivities/3900480608.gpx               | Ride         | Evening Ride\nactivities/3900481056.gpx               | Run          | Afternoon Run\nactivities/3910442421.gpx               | Run          | Morning Run\nactivities/3921355876.gpx               | Run          | ☀️ Morning Run\nactivities/3937152741.gpx               | Run          | ⛅ Morning Run\nactivities/3969292171.gpx               | Run          | ☁️ Lunch Run\nactivities/3976916634.gpx               | Run          | Evening Run\nactivities/3981378085.gpx               | Ride         | ⛅ Afternoon Ride\nactivities/4003096985.gpx               | Run          | ☀️ Evening Run\nactivities/4041997214.gpx               | Run          | ⛅ Evening Run\nactivities/4047361121.gpx               | Hike         | ☁️ Lunch Hike\nactivities/4061064059.gpx               | Run          | ⛅ Morning Run\nactivities/4067835583.gpx               | Run          | ⛅ Afternoon Run\nactivities/4067969237.gpx               | Hike         | ☀️ Lunch Ride\nactivities/4071841783.gpx               | Run          | ⛅ Evening Run\nactivities/4075679287.gpx               | Ride         | ⛅ Afternoon Ride\nactivities/4110060586.gpx               | Run          | ☀️ Morning Run\nactivities/4110060420.gpx               | Ride         | ☀️ Lunch Hike\nactivities/4141473661.gpx               | Run          | 🌙 Night Run\nactivities/4161228319.gpx               | Run          | ☁️ Morning Run\nactivities/4169479268.gpx               | Run          | ⛅ Morning Run\nactivities/4211677768.gpx               | Run          | ⛅ Morning Run\nactivities/4311698268.gpx               | Run          | ☁️ Morning Run\n"
    }
   ],
   "source": [
    "folder = \"/mnt/d/Users/water_000/Downloads/export_25412727/\"\n",
    "files = main(folder, folder + \"activities\", folder + \"activities.csv\")"
   ]
  },
  {
   "cell_type": "markdown",
   "metadata": {},
   "source": [
    "Save data to Dataframe"
   ]
  },
  {
   "cell_type": "code",
   "execution_count": 66,
   "metadata": {
    "tags": []
   },
   "outputs": [
    {
     "output_type": "stream",
     "name": "stdout",
     "text": " 72/72... rate=0.99 Hz, eta=0:00:00, total=0:01:11, wall=18:01 CET\n"
    }
   ],
   "source": [
    "data = []\n",
    "for filename, activity_type in prog(files.items()):\n",
    "    with open(folder + filename, \"r\") as file:\n",
    "        gpxdata = gpxpy.parse(file)\n",
    "\n",
    "    init_time = gpxdata.tracks[0].segments[0].points[0].time\n",
    "    for track in gpxdata.tracks:\n",
    "        locdict = None\n",
    "        for segment in track.segments:\n",
    "            for point in segment.points:\n",
    "                if point.latitude and point.longitude:\n",
    "                    if not locdict:\n",
    "                        locdict = locator(\"{}, {}\".format(point.latitude, point.longitude), language='en').raw\n",
    "                        mydict = dict()\n",
    "                        for key in [\"country\", \"state\", \"city\"]:\n",
    "                            mydict[key] = locdict[\"address\"][key] if key in locdict[\"address\"] else \"Unknown\"\n",
    "                    data.append(dict(\n",
    "                        latitude=point.latitude,\n",
    "                        longitude=point.longitude,\n",
    "                        time=point.time,\n",
    "                        type=activity_type,\n",
    "                        file=filename,\n",
    "                        **mydict\n",
    "                    ))\n",
    "\n",
    "df = pd.DataFrame(data)\n"
   ]
  },
  {
   "cell_type": "code",
   "execution_count": 70,
   "metadata": {},
   "outputs": [],
   "source": [
    "from IPython.display import display\n",
    "import ipywidgets as widgets\n",
    "import gmaps\n",
    "with open(\"api_key\", \"r\") as file:\n",
    "    api_key = file.read()\n",
    "gmaps.configure(api_key=api_key)\n",
    "\n",
    "class OutletExplorer(object):\n",
    "\n",
    "    def __init__(self, df, option, max_intensity:int=800, point_radius:int=5):\n",
    "        \"\"\"\n",
    "        Jupyter widget for exploring KFC and Starbucks outlets\n",
    "\n",
    "        Using checkboxes, the user chooses whether to include\n",
    "        Starbucks, KFC outlets, both or neither.\n",
    "        \"\"\"\n",
    "        self.max_intensity = max_intensity\n",
    "        self.point_radius = point_radius\n",
    "        self._df = df\n",
    "        self._option = option\n",
    "        self._options = list(set(self._df.loc[:, option]))\n",
    "        self._numoptions = len(self._options)\n",
    "        self._heatmap = None\n",
    "        self._checkboxes = None\n",
    "        self._mislider = None\n",
    "        self._prslider = None\n",
    "\n",
    "        title_widget = widgets.HTML(\n",
    "            '<h3>Explore GPX and TCX data</h3>'\n",
    "        )\n",
    "        sliders, controls = self._render_controls()\n",
    "        map_figure = self._render_map()\n",
    "\n",
    "        self._container = widgets.VBox(\n",
    "            [title_widget, sliders, controls, map_figure])\n",
    "\n",
    "    def render(self):\n",
    "        \"\"\" Render the widget \"\"\"\n",
    "        display(self._container)\n",
    "\n",
    "    def _render_map(self):\n",
    "        \"\"\" Render the initial map \"\"\"\n",
    "        fig = gmaps.figure()\n",
    "        self._heatmap = gmaps.heatmap_layer(\n",
    "            df[['latitude', 'longitude']],\n",
    "            max_intensity = self.max_intensity,\n",
    "            point_radius = self.point_radius\n",
    "        )\n",
    "        fig.add_layer(self._heatmap)\n",
    "        self._heatmap.max_intensity = self.max_intensity\n",
    "        self._heatmap.point_radius = self.point_radius\n",
    "        return fig\n",
    "\n",
    "    def _render_controls(self, *args, **kwargs):\n",
    "\n",
    "        self._mislider = widgets.IntSlider(\n",
    "            value=self.max_intensity,\n",
    "            min=0,\n",
    "            max=2000,\n",
    "            description='Max Intensity',\n",
    "            continuous_update=False\n",
    "        )\n",
    "        self._mislider.observe(self._on_mi_change, names='value')\n",
    "        self._prslider = widgets.IntSlider(\n",
    "            value=self.point_radius,\n",
    "            min=1,\n",
    "            max=50,\n",
    "            description='Point Radius',\n",
    "            continuous_update=False\n",
    "        )\n",
    "        self._prslider.observe(self._on_pr_change, names='value')\n",
    "        sliders = widgets.VBox([\n",
    "            self._mislider,\n",
    "            self._prslider\n",
    "        ])\n",
    "\n",
    "        \"\"\" Render the checkboxes \"\"\"\n",
    "        self._checkboxes = {}\n",
    "        for option in self._options:\n",
    "            checkbox = widgets.Checkbox(\n",
    "                value=True,\n",
    "                description=option\n",
    "            )\n",
    "            checkbox.observe(self._on_checkbox_change, names='value')\n",
    "            self._checkboxes[option] = checkbox\n",
    "        controls = widgets.Box(\n",
    "            list(self._checkboxes.values()),\n",
    "            layout=widgets.Layout(flex_flow='row wrap')\n",
    "        )\n",
    "        return sliders, controls\n",
    "\n",
    "    def _on_mi_change(self, change):\n",
    "        self._heatmap.max_intensity = self._mislider.value\n",
    "\n",
    "    def _on_pr_change(self, change):\n",
    "        self._heatmap.point_radius = self._prslider.value\n",
    "\n",
    "    def _on_checkbox_change(self, change):\n",
    "        \"\"\"\n",
    "        Called when the checkboxes change\n",
    "\n",
    "        This method builds the list of symbols to include on the map,\n",
    "        based on the current checkbox values. It then updates the\n",
    "        symbol layer with the new symbol list.\n",
    "        \"\"\"\n",
    "\n",
    "        selected = [option for option, checkbox in self._checkboxes.items() if checkbox.value]\n",
    "        locations = self._df.loc[df[self._option].isin(selected), ['latitude', 'longitude']]\n",
    "        self._heatmap.locations = locations\n",
    "        print(selected, len(locations))\n",
    "        return self._container"
   ]
  },
  {
   "cell_type": "markdown",
   "metadata": {},
   "source": [
    "Plot map"
   ]
  },
  {
   "cell_type": "code",
   "execution_count": 71,
   "metadata": {},
   "outputs": [
    {
     "output_type": "display_data",
     "data": {
      "text/plain": "VBox(children=(HTML(value='<h3>Explore GPX and TCX data</h3>'), VBox(children=(IntSlider(value=800, continuous…",
      "application/vnd.jupyter.widget-view+json": {
       "version_major": 2,
       "version_minor": 0,
       "model_id": "005e5b1084eb4551821a977629fdbe81"
      }
     },
     "metadata": {}
    }
   ],
   "source": [
    "\n",
    "\n",
    "GHeatmap(df, \"type\").render()"
   ]
  },
  {
   "cell_type": "code",
   "execution_count": null,
   "metadata": {},
   "outputs": [],
   "source": []
  }
 ],
 "metadata": {
  "kernelspec": {
   "display_name": "strava_mapper",
   "language": "python",
   "name": "strava_mapper"
  },
  "language_info": {
   "codemirror_mode": {
    "name": "ipython",
    "version": 3
   },
   "file_extension": ".py",
   "mimetype": "text/x-python",
   "name": "python",
   "nbconvert_exporter": "python",
   "pygments_lexer": "ipython3",
   "version": "3.8.2-final"
  }
 },
 "nbformat": 4,
 "nbformat_minor": 2
}