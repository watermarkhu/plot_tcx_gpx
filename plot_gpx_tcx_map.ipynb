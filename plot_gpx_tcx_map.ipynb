{
 "cells": [
  {
   "cell_type": "markdown",
   "metadata": {},
   "source": [
    "# Parse and plot activity data interactively in Jupyter with GPSbabel,  Gpxpy, Geopy and Gmaps\n",
    "\n",
    "This notebook parses the data exported from your Strava profile and plots it on an interactive window via the Google Maps API. \n",
    "\n",
    "## Dependancies\n",
    "\n",
    "Install [GPSbabel](https://www.gpsbabel.org/download.html) , which we use to parse and unzip `.gz` and/or convert`.tcx` files to the same `.gpx` format. On Linux, this can done via  `apt install gpsbabel`. For other systems, please refer to the documentation of GPSbabel.\n",
    "\n",
    "Most Python dependances can be installed by running `pip install -r requirements.txt` in the notebook repository. However, we'll be using a custom version of `gpxpy`, which parses `.gpx` files. In the package, 'trckpts' points without longitude and latitude fields raise an error for the entire file. The [forked version](https://github.com/watermarkhu/gpxpy) does not raise this error, and deals with such points later. Clone the fork and install with pip in developer mode.\n",
    "\n",
    "```bash\n",
    "git clone https://github.com/watermarkhu/gpxpy\n",
    "pip install -e ./gpxpy\n",
    "```"
   ]
  },
  {
   "cell_type": "code",
   "execution_count": 1,
   "metadata": {
    "tags": []
   },
   "outputs": [],
   "source": [
    "import gpxpy\n",
    "from progiter import ProgIter as prog\n",
    "from gpxconverter import Main\n",
    "from plotter import PlotApp\n",
    "import pandas as pd\n",
    "from geopy.geocoders import Nominatim\n",
    "from geopy.extra.rate_limiter import RateLimiter"
   ]
  },
  {
   "cell_type": "markdown",
   "metadata": {},
   "source": [
    "## Unifying activity files\n",
    "\n",
    "As you may have already noticed, the exported data from Strava is a zip file. If we unzip the file, we find an `activities` folder containing for every tracked activity an individual file. But not all files have the same extension, which is seemingly dependent on the tracker device used during the activity. To parse all activities, we convert all activities to `gpx` files"
   ]
  },
  {
   "cell_type": "code",
   "execution_count": 3,
   "metadata": {
    "tags": []
   },
   "outputs": [
    {
     "name": "stdout",
     "output_type": "stream",
     "text": [
      "Reading '/mnt/d/Users/water_000/Downloads/export_25412727/activities.csv'\n",
      "Found 72 activities \n",
      "Unzipping ...\n",
      "Progress: \n",
      "Normalizing ...\n",
      "activities/2453671243.gpx               | Run          | Morning Run\n",
      "activities/2459470423.gpx               | Run          | Morning Run\n",
      "activities/2497042755.gpx               | Snowboard    | Morning Activity\n",
      "activities/2514112484.gpx               | Run          | Lunch Run\n",
      "activities/2519401245.gpx               | Run          | Morning Run\n",
      "activities/2522229121.gpx               | Run          | Morning run\n",
      "activities/2706238445.gpx               | Run          | Morning Run\n",
      "activities/2712950931.gpx               | Run          | Lunch Run\n",
      "activities/2712959895.gpx               | Run          | Morning Run\n",
      "activities/2717923914.gpx               | Run          | Running\n",
      "activities/2722525232.gpx               | Run          | Running\n",
      "activities/2733023399.gpx               | Run          | Morning Run\n",
      "activities/2733023547.gpx               | Run          | Morning Run\n",
      "activities/2785735267.gpx               | Run          | Morning Run\n",
      "activities/2785735371.gpx               | Run          | Morning Run\n",
      "activities/2786087007.gpx               | Run          | Lunch Run\n",
      "activities/2812692131.gpx               | Run          | Lunch Run\n",
      "activities/2825500068.gpx               | Run          | Morning Run\n",
      "activities/2851869626.gpx               | Run          | Morning Run\n",
      "activities/2734028751.gpx               | Run          | Evening Run\n",
      "activities/3067136819.gpx               | Run          | Morning Run\n",
      "activities/3143243162.gpx               | Alpine Ski   | Lunch Ride\n",
      "activities/3145812334.gpx               | Alpine Ski   | Morning Ride\n",
      "activities/3148043330.gpx               | Alpine Ski   | Morning Ride\n",
      "activities/3148043564.gpx               | Alpine Ski   | Afternoon Ride\n",
      "activities/3150323002.gpx               | Alpine Ski   | Morning Ride\n",
      "activities/2969469824.gpx               | Run          | Morning Run\n",
      "activities/3171388948.gpx               | Ride         | Afternoon Ride\n",
      "activities/3176088217.gpx               | Run          | Morning Run\n",
      "activities/3196563370.gpx               | Run          | Morning Run\n",
      "activities/3217339545.gpx               | Run          | Evening Run\n",
      "activities/3462533194.gpx               | Run          | Afternoon Run\n",
      "activities/3479829981.gpx               | Run          | Evening Run\n",
      "activities/3497766627.gpx               | Run          | Evening Run\n",
      "activities/3516123149.gpx               | Run          | Afternoon Run\n",
      "activities/3530860577.gpx               | Run          | Evening Run\n",
      "activities/3549910276.gpx               | Ride         | Lunch Ride\n",
      "activities/3549910536.gpx               | Ride         | Afternoon Ride\n",
      "activities/3334552807.gpx               | Run          | Morning Run\n",
      "activities/3587502906.gpx               | Run          | Afternoon Run\n",
      "activities/3615608577.gpx               | Run          | Morning Run\n",
      "activities/3635341051.gpx               | Run          | Afternoon Run\n",
      "activities/3652906301.gpx               | Ride         | Morning Ride\n",
      "activities/3669451601.gpx               | Run          | Evening Run\n",
      "activities/3703660263.gpx               | Run          | Afternoon Run\n",
      "activities/3770655030.gpx               | Run          | Evening Run\n",
      "activities/3834658578.gpx               | Run          | Morning Run\n",
      "activities/3846855350.gpx               | Run          | Afternoon Run\n",
      "activities/3872337350.gpx               | Run          | Morning Run\n",
      "activities/3900480608.gpx               | Ride         | Evening Ride\n",
      "activities/3900481056.gpx               | Run          | Afternoon Run\n",
      "activities/3910442421.gpx               | Run          | Morning Run\n",
      "activities/3921355876.gpx               | Run          | ☀️ Morning Run\n",
      "activities/3937152741.gpx               | Run          | ⛅ Morning Run\n",
      "activities/3969292171.gpx               | Run          | ☁️ Lunch Run\n",
      "activities/3976916634.gpx               | Run          | Evening Run\n",
      "activities/3981378085.gpx               | Ride         | ⛅ Afternoon Ride\n",
      "activities/4003096985.gpx               | Run          | ☀️ Evening Run\n",
      "activities/4041997214.gpx               | Run          | ⛅ Evening Run\n",
      "activities/4047361121.gpx               | Hike         | ☁️ Lunch Hike\n",
      "activities/4061064059.gpx               | Run          | ⛅ Morning Run\n",
      "activities/4067835583.gpx               | Run          | ⛅ Afternoon Run\n",
      "activities/4067969237.gpx               | Hike         | ☀️ Lunch Ride\n",
      "activities/4071841783.gpx               | Run          | ⛅ Evening Run\n",
      "activities/4075679287.gpx               | Ride         | ⛅ Afternoon Ride\n",
      "activities/4110060586.gpx               | Run          | ☀️ Morning Run\n",
      "activities/4110060420.gpx               | Ride         | ☀️ Lunch Hike\n",
      "activities/4141473661.gpx               | Run          | 🌙 Night Run\n",
      "activities/4161228319.gpx               | Run          | ☁️ Morning Run\n",
      "activities/4169479268.gpx               | Run          | ⛅ Morning Run\n",
      "activities/4211677768.gpx               | Run          | ⛅ Morning Run\n",
      "activities/4311698268.gpx               | Run          | ☁️ Morning Run\n"
     ]
    }
   ],
   "source": [
    "folder = \"/mnt/d/Users/water_000/Downloads/export_25412727/\"\n",
    "files = Main(folder, folder + \"activities\", folder + \"activities.csv\")"
   ]
  },
  {
   "cell_type": "markdown",
   "metadata": {},
   "source": [
    "## Parse GPX data, add location metadata\n",
    "\n",
    "Next, we are going to parse all the `gpx` files into a Pandas dataframe. In this dataframe, each row is a tracked location containing a longitude, lattitude and timestamp. We separate the timestamp into columns for simplied data selection using Pandas methods. Also, we use GeoPy to find the starting position of each activity. We limit the number of calls to the Geopy to 1 call per second. Change the value for `user_agent` if neccessary"
   ]
  },
  {
   "cell_type": "code",
   "execution_count": 5,
   "metadata": {
    "scrolled": true,
    "tags": []
   },
   "outputs": [
    {
     "name": "stdout",
     "output_type": "stream",
     "text": [
      " 72/72... rate=0.98 Hz, eta=0:00:00, total=0:01:12, wall=15:25 CET\n",
      "Dataframe ready\n"
     ]
    }
   ],
   "source": [
    "data = []\n",
    "locator = RateLimiter(Nominatim(user_agent=\"strava_mapper2\").reverse, min_delay_seconds=1)\n",
    "# locator = Nominatim(user_agent=\"strava\").reverse\n",
    "\n",
    "for filename, activity_type in prog(files.items()):\n",
    "    with open(folder + filename, \"r\") as file:\n",
    "        gpxdata = gpxpy.parse(file)\n",
    "\n",
    "    mydict = None\n",
    "    for track in gpxdata.tracks:\n",
    "        for segment in track.segments:\n",
    "            for point in segment.points:\n",
    "                if point.latitude and point.longitude:\n",
    "                    if not mydict:\n",
    "                        locdict = locator(\"{}, {}\".format(point.latitude, point.longitude),\n",
    "                            language='en').raw\n",
    "                        mydict = {\n",
    "                            \"year\"      : point.time.year,\n",
    "                            \"month\"     : point.time.month,\n",
    "                            \"weekday\"   : point.time.weekday(),\n",
    "                            \"hour\"      : point.time.hour\n",
    "                        }\n",
    "                        for key in [\"country\", \"state\", \"city\"]:\n",
    "                            mydict[key] = locdict[\"address\"][key] if key in locdict[\"address\"] else \"Unknown\"\n",
    "                    data.append(dict(\n",
    "                        latitude    = point.latitude,\n",
    "                        longitude   = point.longitude,\n",
    "                        time        = point.time,\n",
    "                        type        = activity_type,\n",
    "                        file        = filename,\n",
    "                        **mydict\n",
    "                    ))\n",
    "\n",
    "df = pd.DataFrame(data)\n",
    "print(\"Dataframe ready\")"
   ]
  },
  {
   "cell_type": "markdown",
   "metadata": {},
   "source": [
    "## Plot via Gmaps\n",
    "\n",
    "Finally, we plot dynamically on Google Maps via Gmaps. A Google Maps API key is required. The documentation is provided by [Gmaps](https://jupyter-gmaps.readthedocs.io/en/latest/). We can select any of the Pandas column titles for the selectable catagories of the interactive plot"
   ]
  },
  {
   "cell_type": "code",
   "execution_count": 8,
   "metadata": {},
   "outputs": [
    {
     "data": {
      "application/vnd.jupyter.widget-view+json": {
       "model_id": "bd44e350b3f94f7bb822ff46c75feaa5",
       "version_major": 2,
       "version_minor": 0
      },
      "text/plain": [
       "VBox(children=(HTML(value='<h3>Explore GPX and TCX data</h3>'), VBox(children=(IntSlider(value=800, continuous…"
      ]
     },
     "metadata": {},
     "output_type": "display_data"
    }
   ],
   "source": [
    "\n",
    "with open(\"api_key\", \"r\") as file:\n",
    "    api_key = file.read()\n",
    "\n",
    "categories = [\"city\", \"type\"]\n",
    "\n",
    "map = PlotApp(api_key, df, categories)\n",
    "map.render()"
   ]
  },
  {
   "cell_type": "markdown",
   "metadata": {},
   "source": [
    "The heatmap gradient can be changed by supplying a list of colors. "
   ]
  },
  {
   "cell_type": "code",
   "execution_count": 40,
   "metadata": {},
   "outputs": [],
   "source": [
    "map.heatmap.gradient = [\n",
    "    (0,0,0,0),\n",
    "    (76,96,133,1),\n",
    "    (255,150,5,1),\n",
    "]"
   ]
  },
  {
   "cell_type": "markdown",
   "metadata": {},
   "source": [
    "If the one wants to customize the style of the background map, we will need to install the version of Gmaps of this [pull request](https://github.com/pbugnion/gmaps/pull/330). The pull request is fully functional, but development on Gmaps is seemingly inactive. \n",
    "\n",
    "First uninstall installed version of gmaps. \n",
    "```bash\n",
    "pip uninstall gmaps\n",
    "```\n",
    "To install this version, we'll need clone the repo and build from source (npm is required). \n",
    "```bash\n",
    "git clone https://github.com/krystofcelba/gmaps/\n",
    "cd gmaps\n",
    "git switch feature/add-support-for-styles\n",
    "bash dev-install\n",
    "```\n",
    "The map style loaded via a json file. A custom style can be created [here](https://mapstyle.withgoogle.com/). Two styles are included in the styles folder. "
   ]
  },
  {
   "cell_type": "code",
   "execution_count": 18,
   "metadata": {},
   "outputs": [],
   "source": [
    "with open(\"./styles/blue.json\", \"r\") as file:\n",
    "  style = file.read()\n",
    "map.fig.styles = style"
   ]
  },
  {
   "cell_type": "code",
   "execution_count": null,
   "metadata": {},
   "outputs": [],
   "source": []
  }
 ],
 "metadata": {
  "kernelspec": {
   "display_name": "strava_mapper",
   "language": "python",
   "name": "strava_mapper"
  },
  "language_info": {
   "codemirror_mode": {
    "name": "ipython",
    "version": 3
   },
   "file_extension": ".py",
   "mimetype": "text/x-python",
   "name": "python",
   "nbconvert_exporter": "python",
   "pygments_lexer": "ipython3",
   "version": "3.8.2"
  }
 },
 "nbformat": 4,
 "nbformat_minor": 2
}
