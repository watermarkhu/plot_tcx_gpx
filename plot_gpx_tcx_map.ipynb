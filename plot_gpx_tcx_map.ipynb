{
 "cells": [
  {
   "cell_type": "markdown",
   "metadata": {},
   "source": [
    "This notebook parses the data exported from your Strava profile and plots it on an interactive window via the Google Maps API. \n",
    "\n",
    "First, we we need to install the dependancies for this notebook. First of all, install [GPSbabel](https://www.gpsbabel.org/download.html), which we use to parse and convert `.gz` and `.tcx` files to the same `.gpx` format. On Linux, this can done via \n",
    "```bash\n",
    "apt install gpsbabel\n",
    "```\n",
    "Most Python dependances can be installed by running `pip install -r requirements.txt` (also included in the first Python cell). However, we'll be using a custom version of `gpxpy`, which parses `.gpx` files. In the main package, 'trckpts' points without longitude and latitude fields raise an error for the entire file. The [forked version](https://github.com/watermarkhu/gpxpy) does not raise this error, and deals with such points later. \n",
    "Clone the fork and install with pip in developer mode. \n",
    "```bash\n",
    "git clone https://github.com/watermarkhu/gpxpy\n",
    "pip install -e ./gpxpy\n",
    "```\n"
   ]
  },
  {
   "cell_type": "code",
   "execution_count": null,
   "metadata": {
    "tags": []
   },
   "outputs": [],
   "source": [
    "!pip install -r requirements.txt\n",
    "import gpxpy\n",
    "from progiter import ProgIter as prog\n",
    "from gpxconverter import Main\n",
    "from plotter import PlotApp\n",
    "import pandas as pd\n",
    "from geopy.geocoders import Nominatim\n",
    "from geopy.extra.rate_limiter import RateLimiter"
   ]
  },
  {
   "cell_type": "markdown",
   "metadata": {},
   "source": [
    "Set folder of unzipped export folder and convert all to `gpx` files. "
   ]
  },
  {
   "cell_type": "code",
   "execution_count": null,
   "metadata": {
    "tags": []
   },
   "outputs": [],
   "source": [
    "folder = \"/mnt/c/Users/water/Downloads/export_25412727/\"\n",
    "files = Main(folder, folder + \"activities\", folder + \"activities.csv\")"
   ]
  },
  {
   "cell_type": "markdown",
   "metadata": {},
   "source": [
    "Parse `gpx` files to a Pandas dataframe. We use GeoPy to find the location of each track. We limit the number of calls to the location finder to 1 call per second. Change the value for `user_agent` if neccessary. "
   ]
  },
  {
   "cell_type": "code",
   "execution_count": null,
   "metadata": {
    "scrolled": true,
    "tags": []
   },
   "outputs": [],
   "source": [
    "data = []\n",
    "locator = RateLimiter(Nominatim(user_agent=\"strava_mapper2\").reverse, min_delay_seconds=1)\n",
    "# locator = Nominatim(user_agent=\"strava\").reverse\n",
    "\n",
    "for filename, activity_type in prog(files.items()):\n",
    "    with open(folder + filename, \"r\") as file:\n",
    "        gpxdata = gpxpy.parse(file)\n",
    "\n",
    "    mydict = None\n",
    "    for track in gpxdata.tracks:\n",
    "        for segment in track.segments:\n",
    "            for point in segment.points:\n",
    "                if point.latitude and point.longitude:\n",
    "                    if not mydict:\n",
    "                        locdict = locator(\"{}, {}\".format(point.latitude, point.longitude), language='en').raw\n",
    "                        mydict = dict(\n",
    "                            year = point.time.year,\n",
    "                            month = point.time.month,\n",
    "                            weekday = point.time.weekday(),\n",
    "                            hour = point.time.hour\n",
    "                        )\n",
    "                        for key in [\"country\", \"state\", \"city\"]:\n",
    "                            mydict[key] = locdict[\"address\"][key] if key in locdict[\"address\"] else \"Unknown\"\n",
    "                    data.append(dict(\n",
    "                        latitude = point.latitude,\n",
    "                        longitude = point.longitude,\n",
    "                        time = point.time,\n",
    "                        type = activity_type,\n",
    "                        file = filename,\n",
    "                        **mydict\n",
    "                    ))\n",
    "\n",
    "df = pd.DataFrame(data)\n",
    "print(\"Dataframe ready\")"
   ]
  },
  {
   "cell_type": "markdown",
   "metadata": {},
   "source": [
    "Plot dynamically on Google Maps via Gmaps. A Google Maps API key is required. The documentation is provided by [Gmaps](https://jupyter-gmaps.readthedocs.io/en/latest/). For the categories, one can choose any combination from year, month, weekday, hour, time, type and file. Add categories in previous cell if needed. "
   ]
  },
  {
   "cell_type": "code",
   "execution_count": null,
   "metadata": {},
   "outputs": [],
   "source": [
    "\n",
    "with open(\"api_key\", \"r\") as file:\n",
    "    api_key = file.read()\n",
    "\n",
    "categories = [\"city\", \"type\"]\n",
    "\n",
    "map = PlotApp(api_key, df, categories)\n",
    "map.render()"
   ]
  },
  {
   "cell_type": "markdown",
   "metadata": {},
   "source": [
    "The heatmap gradient can be changed by supplying a list of colors. "
   ]
  },
  {
   "cell_type": "code",
   "execution_count": null,
   "metadata": {},
   "outputs": [],
   "source": [
    "map.heatmap.gradient = [\n",
    "    (0,0,0,0),\n",
    "    'blue',\n",
    "    'purple',\n",
    "    'red'\n",
    "]"
   ]
  },
  {
   "cell_type": "markdown",
   "metadata": {},
   "source": [
    "If the one wants to customize the style of the background map, we will need to install the version of Gmaps of this [pull request](https://github.com/pbugnion/gmaps/pull/330). The pull request is fully functional, but development on Gmaps is seemingly inactive. \n",
    "\n",
    "First uninstall installed version of gmaps. \n",
    "```bash\n",
    "pip uninstall gmaps\n",
    "```\n",
    "To install this version, we'll need clone the repo and build from source (npm is required). \n",
    "```bash\n",
    "git clone https://github.com/krystofcelba/gmaps/\n",
    "cd gmaps\n",
    "git switch feature/add-support-for-styles\n",
    "bash dev-install\n",
    "```\n",
    "The map style loaded via a json file. A custom style can be created [here](https://mapstyle.withgoogle.com/). Two styles are included in the styles folder. "
   ]
  },
  {
   "cell_type": "code",
   "execution_count": null,
   "metadata": {},
   "outputs": [],
   "source": [
    "with open(\"./styles/dark.json\", \"r\") as file:\n",
    "  style = file.read()\n",
    "map.fig.styles = style"
   ]
  },
  {
   "cell_type": "code",
   "execution_count": null,
   "metadata": {},
   "outputs": [],
   "source": []
  }
 ],
 "metadata": {
  "kernelspec": {
   "display_name": "strava_mapper",
   "language": "python",
   "name": "strava_mapper"
  },
  "language_info": {
   "codemirror_mode": {
    "name": "ipython",
    "version": 3
   },
   "file_extension": ".py",
   "mimetype": "text/x-python",
   "name": "python",
   "nbconvert_exporter": "python",
   "pygments_lexer": "ipython3",
   "version": "3.8.2-final"
  }
 },
 "nbformat": 4,
 "nbformat_minor": 2
}